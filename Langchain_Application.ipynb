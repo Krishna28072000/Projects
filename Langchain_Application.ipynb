{
 "cells": [
  {
   "cell_type": "markdown",
   "metadata": {},
   "source": [
    "## **\"Filling Missing Pincodes Based on Address Using LangChain and OpenAI.\"**"
   ]
  },
  {
   "cell_type": "markdown",
   "metadata": {},
   "source": [
    "**Objective:**\n",
    "* This script is designed to automatically fill in missing pincodes based on address data using LangChain's OpenAI model. \n",
    "It extracts pincodes and states from addresses where they are missing and updates the dataset accordingly.\n",
    "\n",
    "**Process:**\n",
    "1. Load the dataset containing missing pincodes.\n",
    "2. Use LangChain with OpenAI's model to generate pincodes from address details.\n",
    "3. Replace missing pincodes with the extracted ones.\n",
    "4. Save the updated dataset."
   ]
  },
  {
   "cell_type": "markdown",
   "metadata": {},
   "source": [
    "**Step-1 : Load the necessary libraries**"
   ]
  },
  {
   "cell_type": "markdown",
   "metadata": {},
   "source": [
    "* The below libraries provide us to use the OpenAI models using Langchain and also it uses PromptTemplate model along Langchain schema messages.\n",
    "* Along with this we also implement re libraries to extract the regular expressions from updated csv output."
   ]
  },
  {
   "cell_type": "code",
   "execution_count": 38,
   "metadata": {},
   "outputs": [],
   "source": [
    "import pandas as pd \n",
    "from langchain.llms import OpenAI\n",
    "from langchain.prompts import PromptTemplate\n",
    "import os \n",
    "import re"
   ]
  },
  {
   "cell_type": "markdown",
   "metadata": {},
   "source": [
    "**Step-2 : Setup Open AI Key**"
   ]
  },
  {
   "cell_type": "markdown",
   "metadata": {},
   "source": [
    "* Provide the OpenAPI ai key below."
   ]
  },
  {
   "cell_type": "code",
   "execution_count": 39,
   "metadata": {},
   "outputs": [],
   "source": [
    "os.environ[\"OPENAPI_AI_KEY\"]=\"Add your API key here\""
   ]
  },
  {
   "cell_type": "markdown",
   "metadata": {},
   "source": [
    "**Step-3 : Load the Dataset**"
   ]
  },
  {
   "cell_type": "markdown",
   "metadata": {},
   "source": [
    "* Load the dataset, the dataset which i provided consists of general address of companies along with missing pincodes of these addresses."
   ]
  },
  {
   "cell_type": "code",
   "execution_count": 40,
   "metadata": {},
   "outputs": [],
   "source": [
    "file_path=\"E:\\\\Projects\\\\Datasets\\\\Pincode_missing.csv\"\n",
    "df=pd.read_csv(file_path)"
   ]
  },
  {
   "cell_type": "markdown",
   "metadata": {},
   "source": [
    "**Step-4 : Data Analysis and formatting**"
   ]
  },
  {
   "cell_type": "code",
   "execution_count": 41,
   "metadata": {},
   "outputs": [
    {
     "data": {
      "text/html": [
       "<div>\n",
       "<style scoped>\n",
       "    .dataframe tbody tr th:only-of-type {\n",
       "        vertical-align: middle;\n",
       "    }\n",
       "\n",
       "    .dataframe tbody tr th {\n",
       "        vertical-align: top;\n",
       "    }\n",
       "\n",
       "    .dataframe thead th {\n",
       "        text-align: right;\n",
       "    }\n",
       "</style>\n",
       "<table border=\"1\" class=\"dataframe\">\n",
       "  <thead>\n",
       "    <tr style=\"text-align: right;\">\n",
       "      <th></th>\n",
       "      <th>Company Name</th>\n",
       "      <th>Street Name</th>\n",
       "      <th>Place</th>\n",
       "      <th>Location</th>\n",
       "      <th>Pincode</th>\n",
       "    </tr>\n",
       "  </thead>\n",
       "  <tbody>\n",
       "    <tr>\n",
       "      <th>0</th>\n",
       "      <td>Wipro</td>\n",
       "      <td>Dodda Kannelli</td>\n",
       "      <td>Sarjapur Road</td>\n",
       "      <td>Bangalore</td>\n",
       "      <td>NaN</td>\n",
       "    </tr>\n",
       "    <tr>\n",
       "      <th>1</th>\n",
       "      <td>Wipro</td>\n",
       "      <td>No. 72</td>\n",
       "      <td>Keonics Electronic City</td>\n",
       "      <td>Bangalore</td>\n",
       "      <td>560100.0</td>\n",
       "    </tr>\n",
       "    <tr>\n",
       "      <th>2</th>\n",
       "      <td>Wipro</td>\n",
       "      <td>Survey No. 203/1</td>\n",
       "      <td>Manikonda Village</td>\n",
       "      <td>Hyderabad</td>\n",
       "      <td>NaN</td>\n",
       "    </tr>\n",
       "    <tr>\n",
       "      <th>3</th>\n",
       "      <td>Wipro</td>\n",
       "      <td>Plot No. 2</td>\n",
       "      <td>MIDC</td>\n",
       "      <td>Rajiv Gandhi Infotech Park ,Hinjewadi,pune</td>\n",
       "      <td>411057.0</td>\n",
       "    </tr>\n",
       "    <tr>\n",
       "      <th>4</th>\n",
       "      <td>TCS</td>\n",
       "      <td>185</td>\n",
       "      <td>Lloyds Road</td>\n",
       "      <td>Gopalapuram,Chennai</td>\n",
       "      <td>NaN</td>\n",
       "    </tr>\n",
       "  </tbody>\n",
       "</table>\n",
       "</div>"
      ],
      "text/plain": [
       "  Company Name       Street Name                     Place  \\\n",
       "0        Wipro    Dodda Kannelli             Sarjapur Road   \n",
       "1        Wipro            No. 72   Keonics Electronic City   \n",
       "2        Wipro  Survey No. 203/1         Manikonda Village   \n",
       "3        Wipro        Plot No. 2                      MIDC   \n",
       "4          TCS               185               Lloyds Road   \n",
       "\n",
       "                                      Location   Pincode  \n",
       "0                                    Bangalore       NaN  \n",
       "1                                    Bangalore  560100.0  \n",
       "2                                    Hyderabad       NaN  \n",
       "3   Rajiv Gandhi Infotech Park ,Hinjewadi,pune  411057.0  \n",
       "4                          Gopalapuram,Chennai       NaN  "
      ]
     },
     "execution_count": 41,
     "metadata": {},
     "output_type": "execute_result"
    }
   ],
   "source": [
    "df.head()"
   ]
  },
  {
   "cell_type": "code",
   "execution_count": 42,
   "metadata": {},
   "outputs": [
    {
     "data": {
      "text/plain": [
       "Company Name    0\n",
       "Street Name     0\n",
       "Place           0\n",
       "Location        0\n",
       "Pincode         8\n",
       "dtype: int64"
      ]
     },
     "execution_count": 42,
     "metadata": {},
     "output_type": "execute_result"
    }
   ],
   "source": [
    "df.isnull().sum()"
   ]
  },
  {
   "cell_type": "markdown",
   "metadata": {},
   "source": [
    "**Step-5 : Merge the data columns**"
   ]
  },
  {
   "cell_type": "code",
   "execution_count": 43,
   "metadata": {},
   "outputs": [],
   "source": [
    "df[\"Address\"] = df[\"Street Name\"] + \", \" + df[\"Place\"] + \", \" + df[\"Location\"]\n"
   ]
  },
  {
   "cell_type": "markdown",
   "metadata": {},
   "source": [
    "**Step-6 : Setup the model**"
   ]
  },
  {
   "cell_type": "markdown",
   "metadata": {},
   "source": [
    "* Your code is used to initialize an AI language model (ChatOpenAI) from LangChain."
   ]
  },
  {
   "cell_type": "code",
   "execution_count": 44,
   "metadata": {},
   "outputs": [],
   "source": [
    "from langchain.chat_models import ChatOpenAI\n",
    "llm = ChatOpenAI(model_name=\"gpt-3.5-turbo\", temperature=0.3,openai_api_key=\"Add your API key here\")"
   ]
  },
  {
   "cell_type": "markdown",
   "metadata": {},
   "source": [
    "**Step-7 : Setup the message**"
   ]
  },
  {
   "cell_type": "markdown",
   "metadata": {},
   "source": [
    "* This function uses OpenAI to predict the missing pincode for a given address. It creates a conversation with the AI by providing a system message (AI's role) and a human message (the query). The AI's response is then searched for a 6-digit pincode, which is extracted and returned."
   ]
  },
  {
   "cell_type": "code",
   "execution_count": 45,
   "metadata": {},
   "outputs": [],
   "source": [
    "from langchain.schema import SystemMessage, HumanMessage\n",
    "\n",
    "def get_pincode(address):\n",
    "    \"\"\"Use OpenAI to predict the missing pincode.\"\"\"\n",
    "    messages = [\n",
    "        SystemMessage(content=\"You are an AI assistant that provides accurate pincodes based on address.\"),\n",
    "        HumanMessage(content=f\"What is the pincode for {address}?\")  \n",
    "    ]\n",
    "    response = llm(messages)\n",
    "    match = re.search(r'\\b\\d{6}\\b', response.content)\n",
    "    return match.group(0) if match else \"\"\n"
   ]
  },
  {
   "cell_type": "markdown",
   "metadata": {},
   "source": [
    "**Step-8 : Fill Missing Pincodes**\n"
   ]
  },
  {
   "cell_type": "markdown",
   "metadata": {},
   "source": [
    "* The below code is used to apply the changes in the pincode and fill it."
   ]
  },
  {
   "cell_type": "code",
   "execution_count": 46,
   "metadata": {},
   "outputs": [],
   "source": [
    "df[\"Pincode\"] = df.apply(lambda row: get_pincode(row[\"Address\"]) if pd.isna(row[\"Pincode\"]) else row[\"Pincode\"], axis=1)"
   ]
  },
  {
   "cell_type": "code",
   "execution_count": 47,
   "metadata": {},
   "outputs": [],
   "source": [
    "df['Pincode'] = df['Pincode'].astype(int)"
   ]
  },
  {
   "cell_type": "markdown",
   "metadata": {},
   "source": [
    "**Step-9 : Save the updated file**"
   ]
  },
  {
   "cell_type": "markdown",
   "metadata": {},
   "source": [
    "* The dataset in which pincode is filled is provided through this code kindly check the folder where the code is saved."
   ]
  },
  {
   "cell_type": "code",
   "execution_count": 61,
   "metadata": {},
   "outputs": [],
   "source": [
    "updated_file = \"updated_pincodes1.csv\"\n",
    "df.to_csv(updated_file, index=False)"
   ]
  },
  {
   "cell_type": "markdown",
   "metadata": {},
   "source": [
    "**Conclusion** \n",
    "\n",
    "* This script successfully automates the process of filling missing pincodes by leveraging OpenAI's language model. \n",
    "By analyzing address data, it ensures accurate and efficient completion of missing values, reducing manual effort. \n",
    "The updated dataset is saved for further use, improving data integrity and usability. "
   ]
  },
  {
   "cell_type": "markdown",
   "metadata": {},
   "source": [
    "* If there are any sort of errors in the code or the updated csv implement the code below."
   ]
  },
  {
   "cell_type": "code",
   "execution_count": 49,
   "metadata": {},
   "outputs": [
    {
     "data": {
      "text/plain": [
       "'file_path = \"/mnt/data/updated_file2.csv\"\\ndf = pd.read_csv(file_path)\\n\\n# Set up OpenAI API Key\\nos.environ[\"OPENAI_API_KEY\"] = \"your_openai_api_key_here\"\\nllm = OpenAI()'"
      ]
     },
     "execution_count": 49,
     "metadata": {},
     "output_type": "execute_result"
    }
   ],
   "source": [
    "# Load the dataset\n",
    "\"\"\"file_path = \"/mnt/data/updated_file2.csv\"\n",
    "df = pd.read_csv(file_path)\n",
    "\n",
    "# Set up OpenAI API Key\n",
    "os.environ[\"OPENAI_API_KEY\"] = \"your_openai_api_key_here\"\n",
    "llm = OpenAI()\"\"\""
   ]
  },
  {
   "cell_type": "code",
   "execution_count": 50,
   "metadata": {},
   "outputs": [
    {
     "data": {
      "text/plain": [
       "'\\nprompt = PromptTemplate(\\n    input_variables=[\"address\"],\\n    template=\"Extract the pincode from the following address: {address}\"\\n)\\n'"
      ]
     },
     "execution_count": 50,
     "metadata": {},
     "output_type": "execute_result"
    }
   ],
   "source": [
    "# Define prompt template for pincode extraction\n",
    "\"\"\"\n",
    "prompt = PromptTemplate(\n",
    "    input_variables=[\"address\"],\n",
    "    template=\"Extract the pincode from the following address: {address}\"\n",
    ")\n",
    "\"\"\""
   ]
  },
  {
   "cell_type": "code",
   "execution_count": 51,
   "metadata": {},
   "outputs": [
    {
     "data": {
      "text/plain": [
       "'\\ndef get_pincode(address):\\n    \"\"\"Fetch pincode using LangChain\\'s OpenAI model.\"\"\"\\n    try:\\n        response = llm(prompt.format(address=address))\\n        return response.strip()\\n    except Exception as e:\\n        print(f\"Error fetching pincode for {address}: {e}\")\\n    return None\\n'"
      ]
     },
     "execution_count": 51,
     "metadata": {},
     "output_type": "execute_result"
    }
   ],
   "source": [
    "'''\n",
    "def get_pincode(address):\n",
    "    \"\"\"Fetch pincode using LangChain's OpenAI model.\"\"\"\n",
    "    try:\n",
    "        response = llm(prompt.format(address=address))\n",
    "        return response.strip()\n",
    "    except Exception as e:\n",
    "        print(f\"Error fetching pincode for {address}: {e}\")\n",
    "    return None\n",
    "'''"
   ]
  },
  {
   "cell_type": "code",
   "execution_count": 52,
   "metadata": {},
   "outputs": [
    {
     "data": {
      "text/plain": [
       "\"\\ndf.loc[df['Pincode'].str.contains('Please provide', na=False), 'Pincode'] = df.apply(\\n    lambda row: get_pincode(row['Address']) if pd.isna(row['Pincode']) or 'Please provide' in str(row['Pincode']) else row['Pincode'],\\n    axis=1\\n)\\n\""
      ]
     },
     "execution_count": 52,
     "metadata": {},
     "output_type": "execute_result"
    }
   ],
   "source": [
    "# Fill missing pincodes\n",
    "'''\n",
    "df.loc[df['Pincode'].str.contains('Please provide', na=False), 'Pincode'] = df.apply(\n",
    "    lambda row: get_pincode(row['Address']) if pd.isna(row['Pincode']) or 'Please provide' in str(row['Pincode']) else row['Pincode'],\n",
    "    axis=1\n",
    ")\n",
    "'''"
   ]
  },
  {
   "cell_type": "code",
   "execution_count": 53,
   "metadata": {},
   "outputs": [
    {
     "data": {
      "text/plain": [
       "'\\ndf.to_csv(\"/mnt/data/updated_pincodes.csv\", index=False)\\nprint(\"Updated pincodes saved successfully.\")\\n'"
      ]
     },
     "execution_count": 53,
     "metadata": {},
     "output_type": "execute_result"
    }
   ],
   "source": [
    "# Save updated CSV\n",
    "'''\n",
    "df.to_csv(\"/mnt/data/updated_pincodes.csv\", index=False)\n",
    "print(\"Updated pincodes saved successfully.\")\n",
    "'''"
   ]
  },
  {
   "cell_type": "markdown",
   "metadata": {},
   "source": [
    "* We can also read the updated csv and use it to make a chatbot which answers our questions based on the infoemation of csv file."
   ]
  },
  {
   "cell_type": "markdown",
   "metadata": {},
   "source": [
    "## **\"Building a CSV-Based AI Question Answering System Using LangChain and OpenAI\"**"
   ]
  },
  {
   "cell_type": "markdown",
   "metadata": {},
   "source": [
    "**Objective:**\n",
    "* This project aims to develop an AI-powered system that reads data from a CSV file and answers questions based on its contents. Using LangChain and OpenAI, the system processes structured text, converts it into searchable vector embeddings, and retrieves relevant information in response to user queries. This approach enhances data accessibility and automation in real-world applications like customer support, data analysis, and business intelligence."
   ]
  },
  {
   "cell_type": "markdown",
   "metadata": {},
   "source": [
    "**Step-1 : Load the necessary libraries**"
   ]
  },
  {
   "cell_type": "code",
   "execution_count": 54,
   "metadata": {},
   "outputs": [],
   "source": [
    "import os \n",
    "import pandas as pd\n",
    "from langchain.chat_models import ChatOpenAI\n",
    "from langchain.embeddings import OpenAIEmbeddings\n",
    "from langchain.vectorstores import FAISS\n",
    "from langchain.document_loaders import DataFrameLoader\n",
    "from langchain.text_splitter import RecursiveCharacterTextSplitter\n",
    "from langchain.chains import RetrievalQA"
   ]
  },
  {
   "cell_type": "markdown",
   "metadata": {},
   "source": [
    "**Step-2 : Add OpenAI Key**"
   ]
  },
  {
   "cell_type": "code",
   "execution_count": 55,
   "metadata": {},
   "outputs": [],
   "source": [
    "os.environ [\"OPENAI_API_KEY\"] = \"Add API Key here\""
   ]
  },
  {
   "cell_type": "markdown",
   "metadata": {},
   "source": [
    "**Step-3 : Load the csv**\n",
    "* Loads the CSV into a Pandas DataFrame or as LangChain Documents."
   ]
  },
  {
   "cell_type": "code",
   "execution_count": 69,
   "metadata": {},
   "outputs": [],
   "source": [
    "df = pd.read_csv(\"E:\\\\Projects\\\\updated_pincodes1.csv\")"
   ]
  },
  {
   "cell_type": "code",
   "execution_count": 70,
   "metadata": {},
   "outputs": [
    {
     "data": {
      "text/html": [
       "<div>\n",
       "<style scoped>\n",
       "    .dataframe tbody tr th:only-of-type {\n",
       "        vertical-align: middle;\n",
       "    }\n",
       "\n",
       "    .dataframe tbody tr th {\n",
       "        vertical-align: top;\n",
       "    }\n",
       "\n",
       "    .dataframe thead th {\n",
       "        text-align: right;\n",
       "    }\n",
       "</style>\n",
       "<table border=\"1\" class=\"dataframe\">\n",
       "  <thead>\n",
       "    <tr style=\"text-align: right;\">\n",
       "      <th></th>\n",
       "      <th>Company Name</th>\n",
       "      <th>Street Name</th>\n",
       "      <th>Place</th>\n",
       "      <th>Location</th>\n",
       "      <th>Pincode</th>\n",
       "      <th>Address</th>\n",
       "      <th>text</th>\n",
       "    </tr>\n",
       "  </thead>\n",
       "  <tbody>\n",
       "    <tr>\n",
       "      <th>0</th>\n",
       "      <td>Wipro</td>\n",
       "      <td>Dodda Kannelli</td>\n",
       "      <td>Sarjapur Road</td>\n",
       "      <td>Bangalore</td>\n",
       "      <td>560035</td>\n",
       "      <td>Dodda Kannelli,  Sarjapur Road, Bangalore</td>\n",
       "      <td>Dodda Kannelli,  Sarjapur Road, Bangalore</td>\n",
       "    </tr>\n",
       "    <tr>\n",
       "      <th>1</th>\n",
       "      <td>Wipro</td>\n",
       "      <td>No. 72</td>\n",
       "      <td>Keonics Electronic City</td>\n",
       "      <td>Bangalore</td>\n",
       "      <td>560100</td>\n",
       "      <td>No. 72,  Keonics Electronic City, Bangalore</td>\n",
       "      <td>No. 72,  Keonics Electronic City, Bangalore</td>\n",
       "    </tr>\n",
       "    <tr>\n",
       "      <th>2</th>\n",
       "      <td>Wipro</td>\n",
       "      <td>Survey No. 203/1</td>\n",
       "      <td>Manikonda Village</td>\n",
       "      <td>Hyderabad</td>\n",
       "      <td>500089</td>\n",
       "      <td>Survey No. 203/1,  Manikonda Village, Hyderabad</td>\n",
       "      <td>Survey No. 203/1,  Manikonda Village, Hyderabad</td>\n",
       "    </tr>\n",
       "    <tr>\n",
       "      <th>3</th>\n",
       "      <td>Wipro</td>\n",
       "      <td>Plot No. 2</td>\n",
       "      <td>MIDC</td>\n",
       "      <td>Rajiv Gandhi Infotech Park ,Hinjewadi,pune</td>\n",
       "      <td>411057</td>\n",
       "      <td>Plot No. 2,  MIDC,  Rajiv Gandhi Infotech Park...</td>\n",
       "      <td>Plot No. 2,  MIDC,  Rajiv Gandhi Infotech Park...</td>\n",
       "    </tr>\n",
       "    <tr>\n",
       "      <th>4</th>\n",
       "      <td>TCS</td>\n",
       "      <td>185</td>\n",
       "      <td>Lloyds Road</td>\n",
       "      <td>Gopalapuram,Chennai</td>\n",
       "      <td>600086</td>\n",
       "      <td>185,  Lloyds Road,  Gopalapuram,Chennai</td>\n",
       "      <td>185,  Lloyds Road,  Gopalapuram,Chennai</td>\n",
       "    </tr>\n",
       "  </tbody>\n",
       "</table>\n",
       "</div>"
      ],
      "text/plain": [
       "  Company Name       Street Name                     Place  \\\n",
       "0        Wipro    Dodda Kannelli             Sarjapur Road   \n",
       "1        Wipro            No. 72   Keonics Electronic City   \n",
       "2        Wipro  Survey No. 203/1         Manikonda Village   \n",
       "3        Wipro        Plot No. 2                      MIDC   \n",
       "4          TCS               185               Lloyds Road   \n",
       "\n",
       "                                      Location  Pincode  \\\n",
       "0                                    Bangalore   560035   \n",
       "1                                    Bangalore   560100   \n",
       "2                                    Hyderabad   500089   \n",
       "3   Rajiv Gandhi Infotech Park ,Hinjewadi,pune   411057   \n",
       "4                          Gopalapuram,Chennai   600086   \n",
       "\n",
       "                                             Address  \\\n",
       "0          Dodda Kannelli,  Sarjapur Road, Bangalore   \n",
       "1        No. 72,  Keonics Electronic City, Bangalore   \n",
       "2    Survey No. 203/1,  Manikonda Village, Hyderabad   \n",
       "3  Plot No. 2,  MIDC,  Rajiv Gandhi Infotech Park...   \n",
       "4            185,  Lloyds Road,  Gopalapuram,Chennai   \n",
       "\n",
       "                                                text  \n",
       "0          Dodda Kannelli,  Sarjapur Road, Bangalore  \n",
       "1        No. 72,  Keonics Electronic City, Bangalore  \n",
       "2    Survey No. 203/1,  Manikonda Village, Hyderabad  \n",
       "3  Plot No. 2,  MIDC,  Rajiv Gandhi Infotech Park...  \n",
       "4            185,  Lloyds Road,  Gopalapuram,Chennai  "
      ]
     },
     "execution_count": 70,
     "metadata": {},
     "output_type": "execute_result"
    }
   ],
   "source": [
    "df.head()"
   ]
  },
  {
   "cell_type": "markdown",
   "metadata": {},
   "source": [
    "**Step-4 : Load the csv as text**"
   ]
  },
  {
   "cell_type": "code",
   "execution_count": 71,
   "metadata": {},
   "outputs": [],
   "source": [
    "# Ensure the DataFrame has a 'text' column for the DataFrameLoader\n",
    "df['text'] = df['Address']\n",
    "\n",
    "loader = DataFrameLoader(df, page_content_column='text')\n",
    "docs = loader.load()"
   ]
  },
  {
   "cell_type": "markdown",
   "metadata": {},
   "source": [
    "**Step-5 : Split the text into chunks**"
   ]
  },
  {
   "cell_type": "markdown",
   "metadata": {},
   "source": [
    "* Thew below code splits the text into smaller parts for efficient search.\n"
   ]
  },
  {
   "cell_type": "code",
   "execution_count": 72,
   "metadata": {},
   "outputs": [],
   "source": [
    "text_splitter = RecursiveCharacterTextSplitter(chunk_size = 500, chunk_overlap = 100)\n",
    "split_docs = text_splitter.split_documents(docs)"
   ]
  },
  {
   "cell_type": "markdown",
   "metadata": {},
   "source": [
    "**Step-6 : Create a vector store**"
   ]
  },
  {
   "cell_type": "markdown",
   "metadata": {},
   "source": [
    "* Create a vector database (FAISS) to store and retrieve similar text.\n"
   ]
  },
  {
   "cell_type": "code",
   "execution_count": 73,
   "metadata": {},
   "outputs": [],
   "source": [
    "from langchain_community.embeddings import OpenAIEmbeddings\n",
    "\n",
    "embeddings = OpenAIEmbeddings(openai_api_key=os.getenv(\"Add your API key here\"))\n"
   ]
  },
  {
   "cell_type": "code",
   "execution_count": 81,
   "metadata": {},
   "outputs": [],
   "source": [
    "embeddings = OpenAIEmbeddings(openai_api_key=\"Add your API key here\")\n",
    "vectorstore = FAISS.from_documents(split_docs, embeddings)"
   ]
  },
  {
   "cell_type": "markdown",
   "metadata": {},
   "source": [
    "**Step-7 : Create a retrieval-based QA system**\n"
   ]
  },
  {
   "cell_type": "code",
   "execution_count": 82,
   "metadata": {},
   "outputs": [],
   "source": [
    "qa = RetrievalQA.from_chain_type(llm = ChatOpenAI(model_name = 'gpt-3.5-turbo'), retriever = vectorstore.as_retriever())"
   ]
  },
  {
   "cell_type": "markdown",
   "metadata": {},
   "source": [
    "**Step-8 : Ask questions**\n"
   ]
  },
  {
   "cell_type": "code",
   "execution_count": 84,
   "metadata": {},
   "outputs": [
    {
     "name": "stdout",
     "output_type": "stream",
     "text": [
      "I don't have the information about the pincode for the addresses mentioned. You may need to look up the specific pincode for each address using an official postal service website or contact the respective local post office for accurate information.\n"
     ]
    }
   ],
   "source": [
    "query = \"What is the pincode for XYZ address?\"\n",
    "response = qa.run(query)\n",
    "print(response)"
   ]
  },
  {
   "cell_type": "code",
   "execution_count": 88,
   "metadata": {},
   "outputs": [
    {
     "name": "stdout",
     "output_type": "stream",
     "text": [
      "Based on the locations provided in the file, the pincode for Hyderabad location of Wipro would be 500081.\n"
     ]
    }
   ],
   "source": [
    "query1 = \"what is the pincode for hyderabad Location of Wipro according to the file\"\n",
    "response1= qa.run(query1)\n",
    "print(response1)"
   ]
  }
 ],
 "metadata": {
  "kernelspec": {
   "display_name": "Python 3",
   "language": "python",
   "name": "python3"
  },
  "language_info": {
   "codemirror_mode": {
    "name": "ipython",
    "version": 3
   },
   "file_extension": ".py",
   "mimetype": "text/x-python",
   "name": "python",
   "nbconvert_exporter": "python",
   "pygments_lexer": "ipython3",
   "version": "3.11.5"
  }
 },
 "nbformat": 4,
 "nbformat_minor": 2
}
