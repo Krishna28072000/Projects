{
 "cells": [
  {
   "cell_type": "markdown",
   "metadata": {},
   "source": [
    "## **Title: \"Extracting and Visualizing Chinese Address Information Using OpenAI and Folium\"**"
   ]
  },
  {
   "cell_type": "markdown",
   "metadata": {},
   "source": [
    "**Objective :**\n",
    "\n",
    "* The objective of this project is to extract and visualize Chinese address information using OpenAI's language models and Folium. The project involves the following steps:\n",
    "\n",
    "1. Import necessary libraries.\n",
    "2. Set the OpenAI API Key.\n",
    "3. Load the dataset containing Chinese addresses.\n",
    "4. Display and check the dataframe information.\n",
    "5. Add new columns for provinces and country if they don't exist.\n",
    "6. Define functions to get provinces and country information using OpenAI.\n",
    "7. Apply these functions to the dataframe to populate the new columns.\n",
    "8. Save the updated dataframe to an Excel file.\n",
    "9. Visualize the data on a map using Folium."
   ]
  },
  {
   "cell_type": "markdown",
   "metadata": {},
   "source": [
    "1. **Import necessary libraries**:\n"
   ]
  },
  {
   "cell_type": "code",
   "execution_count": 1,
   "metadata": {},
   "outputs": [],
   "source": [
    "import pandas as pd\n",
    "import numpy as np \n",
    "from langchain.llms import OpenAI\n",
    "from langchain.chat_models import ChatOpenAI\n",
    "from langchain.prompts import PromptTemplate \n",
    "import xlrd \n",
    "from langchain.schema import SystemMessage, HumanMessage\n",
    "import os"
   ]
  },
  {
   "cell_type": "markdown",
   "metadata": {},
   "source": [
    "2. **Set OpenAI API Key**:"
   ]
  },
  {
   "cell_type": "code",
   "execution_count": null,
   "metadata": {},
   "outputs": [],
   "source": [
    "os.environ[\"OPENAI_API_KEY\"] = \"Replace your API key here\""
   ]
  },
  {
   "cell_type": "markdown",
   "metadata": {},
   "source": [
    "3. **Load the dataset**:"
   ]
  },
  {
   "cell_type": "code",
   "execution_count": 3,
   "metadata": {},
   "outputs": [],
   "source": [
    "df = pd.read_excel(\"E:\\\\Projects\\\\Datasets\\\\Chinese_addresses.xlsx\")"
   ]
  },
  {
   "cell_type": "markdown",
   "metadata": {},
   "source": [
    "4. **Display the first few rows of the dataframe**:\n"
   ]
  },
  {
   "cell_type": "code",
   "execution_count": 4,
   "metadata": {},
   "outputs": [
    {
     "data": {
      "text/html": [
       "<div>\n",
       "<style scoped>\n",
       "    .dataframe tbody tr th:only-of-type {\n",
       "        vertical-align: middle;\n",
       "    }\n",
       "\n",
       "    .dataframe tbody tr th {\n",
       "        vertical-align: top;\n",
       "    }\n",
       "\n",
       "    .dataframe thead th {\n",
       "        text-align: right;\n",
       "    }\n",
       "</style>\n",
       "<table border=\"1\" class=\"dataframe\">\n",
       "  <thead>\n",
       "    <tr style=\"text-align: right;\">\n",
       "      <th></th>\n",
       "      <th>Company Name</th>\n",
       "      <th>Street Name</th>\n",
       "      <th>Place</th>\n",
       "      <th>City</th>\n",
       "      <th>Pincode</th>\n",
       "    </tr>\n",
       "  </thead>\n",
       "  <tbody>\n",
       "    <tr>\n",
       "      <th>0</th>\n",
       "      <td>Wipro Chengdu Limited</td>\n",
       "      <td>天府大道南段599号天府软件园D2栋</td>\n",
       "      <td>天府软件园</td>\n",
       "      <td>成都</td>\n",
       "      <td>610041</td>\n",
       "    </tr>\n",
       "    <tr>\n",
       "      <th>1</th>\n",
       "      <td>Wipro Dalian Limited</td>\n",
       "      <td>甘井子区亿达春田BEST城D7栋</td>\n",
       "      <td>亿达春田BEST城</td>\n",
       "      <td>大连</td>\n",
       "      <td>116033</td>\n",
       "    </tr>\n",
       "    <tr>\n",
       "      <th>2</th>\n",
       "      <td>Cognizant Technology Solutions</td>\n",
       "      <td>汇贤园9号楼6-9层，腾飞软件园</td>\n",
       "      <td>高新技术产业园区</td>\n",
       "      <td>大连</td>\n",
       "      <td>-</td>\n",
       "    </tr>\n",
       "  </tbody>\n",
       "</table>\n",
       "</div>"
      ],
      "text/plain": [
       "                     Company Name         Street Name      Place City Pincode\n",
       "0           Wipro Chengdu Limited  天府大道南段599号天府软件园D2栋      天府软件园   成都  610041\n",
       "1            Wipro Dalian Limited    甘井子区亿达春田BEST城D7栋  亿达春田BEST城   大连  116033\n",
       "2  Cognizant Technology Solutions    汇贤园9号楼6-9层，腾飞软件园   高新技术产业园区   大连       -"
      ]
     },
     "execution_count": 4,
     "metadata": {},
     "output_type": "execute_result"
    }
   ],
   "source": [
    "df.head()"
   ]
  },
  {
   "cell_type": "markdown",
   "metadata": {},
   "source": [
    "5. **Check the dataframe information**:"
   ]
  },
  {
   "cell_type": "code",
   "execution_count": 5,
   "metadata": {},
   "outputs": [
    {
     "name": "stdout",
     "output_type": "stream",
     "text": [
      "<class 'pandas.core.frame.DataFrame'>\n",
      "RangeIndex: 3 entries, 0 to 2\n",
      "Data columns (total 5 columns):\n",
      " #   Column        Non-Null Count  Dtype \n",
      "---  ------        --------------  ----- \n",
      " 0   Company Name  3 non-null      object\n",
      " 1   Street Name   3 non-null      object\n",
      " 2   Place         3 non-null      object\n",
      " 3   City          3 non-null      object\n",
      " 4   Pincode       3 non-null      object\n",
      "dtypes: object(5)\n",
      "memory usage: 252.0+ bytes\n"
     ]
    }
   ],
   "source": [
    "df.info()"
   ]
  },
  {
   "cell_type": "markdown",
   "metadata": {},
   "source": [
    "6. **Add a new column for provinces if it doesn't exist**:"
   ]
  },
  {
   "cell_type": "code",
   "execution_count": 6,
   "metadata": {},
   "outputs": [],
   "source": [
    "if 'Provinces' not in df.columns:\n",
    "    df[\"Provinces\"] = None"
   ]
  },
  {
   "cell_type": "markdown",
   "metadata": {},
   "source": [
    "7. **Define a function to get provinces using OpenAI**:"
   ]
  },
  {
   "cell_type": "code",
   "execution_count": 7,
   "metadata": {},
   "outputs": [],
   "source": [
    "def get_provinces(pincode, street, place, city):\n",
    "    \"\"\"Use OpenAI to predict the province based on pincode, street,place, city \"\"\"\n",
    "    address = f\"{pincode}, {street}, {city}\"\n",
    "    messages = [\n",
    "        SystemMessage(content = \"You are an AI assistant that extract provinces information from Chinese addresses\"),\n",
    "        HumanMessage(content = f\"What is the provinces of the following address? {address}\\n return only with provinces name in Chinese.\")\n",
    "    ]\n",
    "\n",
    "    response = llm(messages)\n",
    "    return response.content.strip() if response.content else \"\""
   ]
  },
  {
   "cell_type": "markdown",
   "metadata": {},
   "source": [
    "8. **Initialize the language model and apply the function to the dataframe**:"
   ]
  },
  {
   "cell_type": "code",
   "execution_count": null,
   "metadata": {},
   "outputs": [],
   "source": [
    "llm = ChatOpenAI(model_name='gpt-4', temperature=0.5, openai_api_key=\"Replace your API key here\")"
   ]
  },
  {
   "cell_type": "code",
   "execution_count": 11,
   "metadata": {},
   "outputs": [],
   "source": [
    "df['Provinces'] = df.apply(lambda row: get_provinces(row['Pincode'], row['Street Name'], row['Place'], row['City']) if pd.isna(row['Provinces']) else row['Provinces'], axis=1)"
   ]
  },
  {
   "cell_type": "markdown",
   "metadata": {},
   "source": [
    "9. **Display the updated dataframe**:"
   ]
  },
  {
   "cell_type": "code",
   "execution_count": 12,
   "metadata": {},
   "outputs": [
    {
     "data": {
      "text/plain": [
       "0     四川\n",
       "1    辽宁省\n",
       "2    辽宁省\n",
       "Name: Provinces, dtype: object"
      ]
     },
     "execution_count": 12,
     "metadata": {},
     "output_type": "execute_result"
    }
   ],
   "source": [
    "df[\"Provinces\"].head()"
   ]
  },
  {
   "cell_type": "markdown",
   "metadata": {},
   "source": [
    "10. **Add a new column for country if it doesn't exist**:"
   ]
  },
  {
   "cell_type": "code",
   "execution_count": 13,
   "metadata": {},
   "outputs": [],
   "source": [
    "if \"Country\" not in df.columns:\n",
    "    df[\"Country\"] = None"
   ]
  },
  {
   "cell_type": "markdown",
   "metadata": {},
   "source": [
    "11. **Define a function to get country using OpenAI**:"
   ]
  },
  {
   "cell_type": "code",
   "execution_count": 14,
   "metadata": {},
   "outputs": [],
   "source": [
    "def get_country(Provinces, City, Place):\n",
    "        address1 = f\"{Provinces},{City},{Place}\"\n",
    "        messages = [\n",
    "            SystemMessage(content=\"You are an AI assistant that extracts country information from Chinese address\"),\n",
    "            HumanMessage(content=f\"What is the country in the following address? {address1}\\n return only with country name in Chinese.\")\n",
    "        ]\n",
    "        response = llm(messages)\n",
    "        return response.content.strip() if response.content else \"\""
   ]
  },
  {
   "cell_type": "markdown",
   "metadata": {},
   "source": [
    "12. **Apply the function to the dataframe**:"
   ]
  },
  {
   "cell_type": "code",
   "execution_count": 15,
   "metadata": {},
   "outputs": [],
   "source": [
    "df[\"Country\"] = df.apply(lambda row: get_country(row[\"Provinces\"], row[\"City\"], row[\"Place\"]) if pd.isna(row[\"Country\"]) else row[\"Country\"], axis =1)"
   ]
  },
  {
   "cell_type": "code",
   "execution_count": 16,
   "metadata": {},
   "outputs": [
    {
     "data": {
      "text/html": [
       "<div>\n",
       "<style scoped>\n",
       "    .dataframe tbody tr th:only-of-type {\n",
       "        vertical-align: middle;\n",
       "    }\n",
       "\n",
       "    .dataframe tbody tr th {\n",
       "        vertical-align: top;\n",
       "    }\n",
       "\n",
       "    .dataframe thead th {\n",
       "        text-align: right;\n",
       "    }\n",
       "</style>\n",
       "<table border=\"1\" class=\"dataframe\">\n",
       "  <thead>\n",
       "    <tr style=\"text-align: right;\">\n",
       "      <th></th>\n",
       "      <th>Company Name</th>\n",
       "      <th>Street Name</th>\n",
       "      <th>Place</th>\n",
       "      <th>City</th>\n",
       "      <th>Pincode</th>\n",
       "      <th>Provinces</th>\n",
       "      <th>Country</th>\n",
       "    </tr>\n",
       "  </thead>\n",
       "  <tbody>\n",
       "    <tr>\n",
       "      <th>0</th>\n",
       "      <td>Wipro Chengdu Limited</td>\n",
       "      <td>天府大道南段599号天府软件园D2栋</td>\n",
       "      <td>天府软件园</td>\n",
       "      <td>成都</td>\n",
       "      <td>610041</td>\n",
       "      <td>四川</td>\n",
       "      <td>中国</td>\n",
       "    </tr>\n",
       "    <tr>\n",
       "      <th>1</th>\n",
       "      <td>Wipro Dalian Limited</td>\n",
       "      <td>甘井子区亿达春田BEST城D7栋</td>\n",
       "      <td>亿达春田BEST城</td>\n",
       "      <td>大连</td>\n",
       "      <td>116033</td>\n",
       "      <td>辽宁省</td>\n",
       "      <td>中国</td>\n",
       "    </tr>\n",
       "    <tr>\n",
       "      <th>2</th>\n",
       "      <td>Cognizant Technology Solutions</td>\n",
       "      <td>汇贤园9号楼6-9层，腾飞软件园</td>\n",
       "      <td>高新技术产业园区</td>\n",
       "      <td>大连</td>\n",
       "      <td>-</td>\n",
       "      <td>辽宁省</td>\n",
       "      <td>中国</td>\n",
       "    </tr>\n",
       "  </tbody>\n",
       "</table>\n",
       "</div>"
      ],
      "text/plain": [
       "                     Company Name         Street Name      Place City Pincode  \\\n",
       "0           Wipro Chengdu Limited  天府大道南段599号天府软件园D2栋      天府软件园   成都  610041   \n",
       "1            Wipro Dalian Limited    甘井子区亿达春田BEST城D7栋  亿达春田BEST城   大连  116033   \n",
       "2  Cognizant Technology Solutions    汇贤园9号楼6-9层，腾飞软件园   高新技术产业园区   大连       -   \n",
       "\n",
       "  Provinces Country  \n",
       "0        四川      中国  \n",
       "1       辽宁省      中国  \n",
       "2       辽宁省      中国  "
      ]
     },
     "execution_count": 16,
     "metadata": {},
     "output_type": "execute_result"
    }
   ],
   "source": [
    "df.head()"
   ]
  },
  {
   "cell_type": "markdown",
   "metadata": {},
   "source": [
    "13. **Save the updated dataframe to an Excel file**:"
   ]
  },
  {
   "cell_type": "code",
   "execution_count": null,
   "metadata": {},
   "outputs": [],
   "source": [
    "# df.to_excel (\"E:\\\\Projects\\\\updated_chinese_address.xlsx\", index = False)"
   ]
  },
  {
   "cell_type": "markdown",
   "metadata": {},
   "source": [
    "14. **Translate the dataset into english**"
   ]
  },
  {
   "cell_type": "code",
   "execution_count": null,
   "metadata": {},
   "outputs": [],
   "source": [
    "llm = ChatOpenAI(model = \"gpt-4\", temperature = 0, openai_api_key = \"Replace your API key here\")"
   ]
  },
  {
   "cell_type": "code",
   "execution_count": 19,
   "metadata": {},
   "outputs": [],
   "source": [
    "def translate_text(text):\n",
    "    if pd.isna(text) or text.strip()==\"\":\n",
    "        return text\n",
    "    \n",
    "    prompt = f\"\"\" \n",
    "    Translate the following Chinese text into English while preserving its meaning:\n",
    "    Text: {text}\n",
    "    Translation:\n",
    "    \"\"\" \n",
    "    response = llm([HumanMessage(content = prompt)])\n",
    "    return response.content.strip()"
   ]
  },
  {
   "cell_type": "code",
   "execution_count": 20,
   "metadata": {},
   "outputs": [],
   "source": [
    "columns_to_translate = [\"Street Name\", \"Place\", \"City\", \"Provinces\", \"Country\"]\n",
    "\n",
    "for col in columns_to_translate:\n",
    "    df[col] = df[col].apply(translate_text)"
   ]
  },
  {
   "cell_type": "code",
   "execution_count": 21,
   "metadata": {},
   "outputs": [
    {
     "data": {
      "text/html": [
       "<div>\n",
       "<style scoped>\n",
       "    .dataframe tbody tr th:only-of-type {\n",
       "        vertical-align: middle;\n",
       "    }\n",
       "\n",
       "    .dataframe tbody tr th {\n",
       "        vertical-align: top;\n",
       "    }\n",
       "\n",
       "    .dataframe thead th {\n",
       "        text-align: right;\n",
       "    }\n",
       "</style>\n",
       "<table border=\"1\" class=\"dataframe\">\n",
       "  <thead>\n",
       "    <tr style=\"text-align: right;\">\n",
       "      <th></th>\n",
       "      <th>Company Name</th>\n",
       "      <th>Street Name</th>\n",
       "      <th>Place</th>\n",
       "      <th>City</th>\n",
       "      <th>Pincode</th>\n",
       "      <th>Provinces</th>\n",
       "      <th>Country</th>\n",
       "    </tr>\n",
       "  </thead>\n",
       "  <tbody>\n",
       "    <tr>\n",
       "      <th>0</th>\n",
       "      <td>Wipro Chengdu Limited</td>\n",
       "      <td>No. 599, South Section of Tianfu Avenue, Build...</td>\n",
       "      <td>Tianfu Software Park</td>\n",
       "      <td>Chengdu</td>\n",
       "      <td>610041</td>\n",
       "      <td>Sichuan</td>\n",
       "      <td>China</td>\n",
       "    </tr>\n",
       "    <tr>\n",
       "      <th>1</th>\n",
       "      <td>Wipro Dalian Limited</td>\n",
       "      <td>D7 Building, Yida Chuntian BEST City, Ganjingz...</td>\n",
       "      <td>Yida Chuntian BEST City</td>\n",
       "      <td>Dalian</td>\n",
       "      <td>116033</td>\n",
       "      <td>Liaoning Province</td>\n",
       "      <td>China</td>\n",
       "    </tr>\n",
       "    <tr>\n",
       "      <th>2</th>\n",
       "      <td>Cognizant Technology Solutions</td>\n",
       "      <td>Building 9, Floors 6-9, Huixian Garden, Tengfe...</td>\n",
       "      <td>High-tech Industrial Park</td>\n",
       "      <td>Dalian</td>\n",
       "      <td>-</td>\n",
       "      <td>Liaoning Province</td>\n",
       "      <td>China</td>\n",
       "    </tr>\n",
       "  </tbody>\n",
       "</table>\n",
       "</div>"
      ],
      "text/plain": [
       "                     Company Name  \\\n",
       "0           Wipro Chengdu Limited   \n",
       "1            Wipro Dalian Limited   \n",
       "2  Cognizant Technology Solutions   \n",
       "\n",
       "                                         Street Name  \\\n",
       "0  No. 599, South Section of Tianfu Avenue, Build...   \n",
       "1  D7 Building, Yida Chuntian BEST City, Ganjingz...   \n",
       "2  Building 9, Floors 6-9, Huixian Garden, Tengfe...   \n",
       "\n",
       "                       Place     City Pincode          Provinces Country  \n",
       "0       Tianfu Software Park  Chengdu  610041            Sichuan   China  \n",
       "1    Yida Chuntian BEST City   Dalian  116033  Liaoning Province   China  \n",
       "2  High-tech Industrial Park   Dalian       -  Liaoning Province   China  "
      ]
     },
     "execution_count": 21,
     "metadata": {},
     "output_type": "execute_result"
    }
   ],
   "source": [
    "df.head()"
   ]
  },
  {
   "cell_type": "markdown",
   "metadata": {},
   "source": [
    "15. **Visualize the data using Folium**:\n"
   ]
  },
  {
   "cell_type": "code",
   "execution_count": 23,
   "metadata": {},
   "outputs": [
    {
     "data": {
      "text/html": [
       "<div style=\"width:100%;\"><div style=\"position:relative;width:100%;height:0;padding-bottom:60%;\"><span style=\"color:#565656\">Make this Notebook Trusted to load map: File -> Trust Notebook</span><iframe srcdoc=\"&lt;!DOCTYPE html&gt;\n",
       "&lt;html&gt;\n",
       "&lt;head&gt;\n",
       "    \n",
       "    &lt;meta http-equiv=&quot;content-type&quot; content=&quot;text/html; charset=UTF-8&quot; /&gt;\n",
       "    \n",
       "        &lt;script&gt;\n",
       "            L_NO_TOUCH = false;\n",
       "            L_DISABLE_3D = false;\n",
       "        &lt;/script&gt;\n",
       "    \n",
       "    &lt;style&gt;html, body {width: 100%;height: 100%;margin: 0;padding: 0;}&lt;/style&gt;\n",
       "    &lt;style&gt;#map {position:absolute;top:0;bottom:0;right:0;left:0;}&lt;/style&gt;\n",
       "    &lt;script src=&quot;https://cdn.jsdelivr.net/npm/leaflet@1.9.3/dist/leaflet.js&quot;&gt;&lt;/script&gt;\n",
       "    &lt;script src=&quot;https://code.jquery.com/jquery-3.7.1.min.js&quot;&gt;&lt;/script&gt;\n",
       "    &lt;script src=&quot;https://cdn.jsdelivr.net/npm/bootstrap@5.2.2/dist/js/bootstrap.bundle.min.js&quot;&gt;&lt;/script&gt;\n",
       "    &lt;script src=&quot;https://cdnjs.cloudflare.com/ajax/libs/Leaflet.awesome-markers/2.0.2/leaflet.awesome-markers.js&quot;&gt;&lt;/script&gt;\n",
       "    &lt;link rel=&quot;stylesheet&quot; href=&quot;https://cdn.jsdelivr.net/npm/leaflet@1.9.3/dist/leaflet.css&quot;/&gt;\n",
       "    &lt;link rel=&quot;stylesheet&quot; href=&quot;https://cdn.jsdelivr.net/npm/bootstrap@5.2.2/dist/css/bootstrap.min.css&quot;/&gt;\n",
       "    &lt;link rel=&quot;stylesheet&quot; href=&quot;https://netdna.bootstrapcdn.com/bootstrap/3.0.0/css/bootstrap-glyphicons.css&quot;/&gt;\n",
       "    &lt;link rel=&quot;stylesheet&quot; href=&quot;https://cdn.jsdelivr.net/npm/@fortawesome/fontawesome-free@6.2.0/css/all.min.css&quot;/&gt;\n",
       "    &lt;link rel=&quot;stylesheet&quot; href=&quot;https://cdnjs.cloudflare.com/ajax/libs/Leaflet.awesome-markers/2.0.2/leaflet.awesome-markers.css&quot;/&gt;\n",
       "    &lt;link rel=&quot;stylesheet&quot; href=&quot;https://cdn.jsdelivr.net/gh/python-visualization/folium/folium/templates/leaflet.awesome.rotate.min.css&quot;/&gt;\n",
       "    \n",
       "            &lt;meta name=&quot;viewport&quot; content=&quot;width=device-width,\n",
       "                initial-scale=1.0, maximum-scale=1.0, user-scalable=no&quot; /&gt;\n",
       "            &lt;style&gt;\n",
       "                #map_02bbba8d509ac2a3ab456d6c97a700b3 {\n",
       "                    position: relative;\n",
       "                    width: 100.0%;\n",
       "                    height: 100.0%;\n",
       "                    left: 0.0%;\n",
       "                    top: 0.0%;\n",
       "                }\n",
       "                .leaflet-container { font-size: 1rem; }\n",
       "            &lt;/style&gt;\n",
       "        \n",
       "&lt;/head&gt;\n",
       "&lt;body&gt;\n",
       "    \n",
       "    \n",
       "            &lt;div class=&quot;folium-map&quot; id=&quot;map_02bbba8d509ac2a3ab456d6c97a700b3&quot; &gt;&lt;/div&gt;\n",
       "        \n",
       "&lt;/body&gt;\n",
       "&lt;script&gt;\n",
       "    \n",
       "    \n",
       "            var map_02bbba8d509ac2a3ab456d6c97a700b3 = L.map(\n",
       "                &quot;map_02bbba8d509ac2a3ab456d6c97a700b3&quot;,\n",
       "                {\n",
       "                    center: [35.8617, 104.1954],\n",
       "                    crs: L.CRS.EPSG3857,\n",
       "                    ...{\n",
       "  &quot;zoom&quot;: 4,\n",
       "  &quot;zoomControl&quot;: true,\n",
       "  &quot;preferCanvas&quot;: false,\n",
       "}\n",
       "\n",
       "                }\n",
       "            );\n",
       "\n",
       "            \n",
       "\n",
       "        \n",
       "    \n",
       "            var tile_layer_92a084f69b69b6d2d6a00803e5a60c4d = L.tileLayer(\n",
       "                &quot;https://tile.openstreetmap.org/{z}/{x}/{y}.png&quot;,\n",
       "                {\n",
       "  &quot;minZoom&quot;: 0,\n",
       "  &quot;maxZoom&quot;: 19,\n",
       "  &quot;maxNativeZoom&quot;: 19,\n",
       "  &quot;noWrap&quot;: false,\n",
       "  &quot;attribution&quot;: &quot;\\u0026copy; \\u003ca href=\\&quot;https://www.openstreetmap.org/copyright\\&quot;\\u003eOpenStreetMap\\u003c/a\\u003e contributors&quot;,\n",
       "  &quot;subdomains&quot;: &quot;abc&quot;,\n",
       "  &quot;detectRetina&quot;: false,\n",
       "  &quot;tms&quot;: false,\n",
       "  &quot;opacity&quot;: 1,\n",
       "}\n",
       "\n",
       "            );\n",
       "        \n",
       "    \n",
       "            tile_layer_92a084f69b69b6d2d6a00803e5a60c4d.addTo(map_02bbba8d509ac2a3ab456d6c97a700b3);\n",
       "        \n",
       "    \n",
       "            var marker_df6e4ff8cd5450802d3917e0ef793e4d = L.marker(\n",
       "                [30.5728, 104.0668],\n",
       "                {\n",
       "}\n",
       "            ).addTo(map_02bbba8d509ac2a3ab456d6c97a700b3);\n",
       "        \n",
       "    \n",
       "        var popup_ae6587c43e873e9135a7a16d5d13415d = L.popup({\n",
       "  &quot;maxWidth&quot;: &quot;100%&quot;,\n",
       "});\n",
       "\n",
       "        \n",
       "            \n",
       "                var html_c7db84c5c39c37ad56b316fefcab46a1 = $(`&lt;div id=&quot;html_c7db84c5c39c37ad56b316fefcab46a1&quot; style=&quot;width: 100.0%; height: 100.0%;&quot;&gt;Wipro Chengdu Limited&lt;/div&gt;`)[0];\n",
       "                popup_ae6587c43e873e9135a7a16d5d13415d.setContent(html_c7db84c5c39c37ad56b316fefcab46a1);\n",
       "            \n",
       "        \n",
       "\n",
       "        marker_df6e4ff8cd5450802d3917e0ef793e4d.bindPopup(popup_ae6587c43e873e9135a7a16d5d13415d)\n",
       "        ;\n",
       "\n",
       "        \n",
       "    \n",
       "    \n",
       "            marker_df6e4ff8cd5450802d3917e0ef793e4d.bindTooltip(\n",
       "                `&lt;div&gt;\n",
       "                     Sichuan\n",
       "                 &lt;/div&gt;`,\n",
       "                {\n",
       "  &quot;sticky&quot;: true,\n",
       "}\n",
       "            );\n",
       "        \n",
       "    \n",
       "            var marker_9ef45505038b9b08e6ee7ce0897367f9 = L.marker(\n",
       "                [41.8057, 123.4315],\n",
       "                {\n",
       "}\n",
       "            ).addTo(map_02bbba8d509ac2a3ab456d6c97a700b3);\n",
       "        \n",
       "    \n",
       "        var popup_95d955caa1eecd42a02204854af2b649 = L.popup({\n",
       "  &quot;maxWidth&quot;: &quot;100%&quot;,\n",
       "});\n",
       "\n",
       "        \n",
       "            \n",
       "                var html_3d92cc46f6e20471170d3e0856bd315e = $(`&lt;div id=&quot;html_3d92cc46f6e20471170d3e0856bd315e&quot; style=&quot;width: 100.0%; height: 100.0%;&quot;&gt;Wipro Dalian Limited&lt;/div&gt;`)[0];\n",
       "                popup_95d955caa1eecd42a02204854af2b649.setContent(html_3d92cc46f6e20471170d3e0856bd315e);\n",
       "            \n",
       "        \n",
       "\n",
       "        marker_9ef45505038b9b08e6ee7ce0897367f9.bindPopup(popup_95d955caa1eecd42a02204854af2b649)\n",
       "        ;\n",
       "\n",
       "        \n",
       "    \n",
       "    \n",
       "            marker_9ef45505038b9b08e6ee7ce0897367f9.bindTooltip(\n",
       "                `&lt;div&gt;\n",
       "                     Liaoning Province\n",
       "                 &lt;/div&gt;`,\n",
       "                {\n",
       "  &quot;sticky&quot;: true,\n",
       "}\n",
       "            );\n",
       "        \n",
       "    \n",
       "            var marker_63f13e4ced0f0fd18647a7d9b520b55b = L.marker(\n",
       "                [41.8057, 123.4315],\n",
       "                {\n",
       "}\n",
       "            ).addTo(map_02bbba8d509ac2a3ab456d6c97a700b3);\n",
       "        \n",
       "    \n",
       "        var popup_c2321642ba152e8925d38ae664d5c1aa = L.popup({\n",
       "  &quot;maxWidth&quot;: &quot;100%&quot;,\n",
       "});\n",
       "\n",
       "        \n",
       "            \n",
       "                var html_b8e0e7e762af1be538727f4b41027c35 = $(`&lt;div id=&quot;html_b8e0e7e762af1be538727f4b41027c35&quot; style=&quot;width: 100.0%; height: 100.0%;&quot;&gt;Cognizant Technology Solutions&lt;/div&gt;`)[0];\n",
       "                popup_c2321642ba152e8925d38ae664d5c1aa.setContent(html_b8e0e7e762af1be538727f4b41027c35);\n",
       "            \n",
       "        \n",
       "\n",
       "        marker_63f13e4ced0f0fd18647a7d9b520b55b.bindPopup(popup_c2321642ba152e8925d38ae664d5c1aa)\n",
       "        ;\n",
       "\n",
       "        \n",
       "    \n",
       "    \n",
       "            marker_63f13e4ced0f0fd18647a7d9b520b55b.bindTooltip(\n",
       "                `&lt;div&gt;\n",
       "                     Liaoning Province\n",
       "                 &lt;/div&gt;`,\n",
       "                {\n",
       "  &quot;sticky&quot;: true,\n",
       "}\n",
       "            );\n",
       "        \n",
       "&lt;/script&gt;\n",
       "&lt;/html&gt;\" style=\"position:absolute;width:100%;height:100%;left:0;top:0;border:none !important;\" allowfullscreen webkitallowfullscreen mozallowfullscreen></iframe></div></div>"
      ],
      "text/plain": [
       "<folium.folium.Map at 0x1ca391db1d0>"
      ]
     },
     "execution_count": 23,
     "metadata": {},
     "output_type": "execute_result"
    }
   ],
   "source": [
    "import folium\n",
    "\n",
    "# Create a map centered around China\n",
    "china_map = folium.Map(location=[35.8617, 104.1954], zoom_start=4)\n",
    "\n",
    "# Define a dictionary to map translated province names to their coordinates\n",
    "province_coordinates = {\n",
    "    'Sichuan': [30.5728, 104.0668],\n",
    "    'Liaoning Province': [41.8057, 123.4315]\n",
    "}\n",
    "\n",
    "# Add markers to the map for each province\n",
    "for index, row in df.iterrows():\n",
    "    province = row['Provinces']\n",
    "    if province in province_coordinates:\n",
    "        folium.Marker(\n",
    "            location=province_coordinates[province],\n",
    "            popup=row['Company Name'],\n",
    "            tooltip=province\n",
    "        ).add_to(china_map)\n",
    "\n",
    "# Display the map\n",
    "china_map"
   ]
  }
 ],
 "metadata": {
  "kernelspec": {
   "display_name": "Python 3",
   "language": "python",
   "name": "python3"
  },
  "language_info": {
   "codemirror_mode": {
    "name": "ipython",
    "version": 3
   },
   "file_extension": ".py",
   "mimetype": "text/x-python",
   "name": "python",
   "nbconvert_exporter": "python",
   "pygments_lexer": "ipython3",
   "version": "3.11.5"
  }
 },
 "nbformat": 4,
 "nbformat_minor": 2
}
