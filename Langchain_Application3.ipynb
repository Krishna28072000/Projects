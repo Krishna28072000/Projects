{
 "cells": [
  {
   "cell_type": "markdown",
   "metadata": {},
   "source": [
    "## **\"Predicting Missing Information in Hindi Addresses Using OpenAI's Language Model\"**\n"
   ]
  },
  {
   "cell_type": "markdown",
   "metadata": {},
   "source": [
    "**Objective :**\n",
    "* In this file we have been provided an empty column \"स्थान\"( Area ) in the dataset which contain nan values so we need to predict the areas based on information in the excel file provided and along with that we need to identify the state and country name based on company's location and details in the excel file."
   ]
  },
  {
   "cell_type": "markdown",
   "metadata": {},
   "source": [
    "**Step-1 : Load the necessary libraries**"
   ]
  },
  {
   "cell_type": "code",
   "execution_count": 1,
   "metadata": {},
   "outputs": [],
   "source": [
    "import pandas as pd \n",
    "import numpy as np \n",
    "import os \n",
    "import xlrd \n",
    "from langchain.llms import OpenAI\n",
    "from langchain.chat_models import ChatOpenAI\n",
    "from langchain.prompts import PromptTemplate "
   ]
  },
  {
   "cell_type": "markdown",
   "metadata": {},
   "source": [
    "**Step-2 : Setup the API Key**"
   ]
  },
  {
   "cell_type": "code",
   "execution_count": null,
   "metadata": {},
   "outputs": [
    {
     "name": "stderr",
     "output_type": "stream",
     "text": [
      "C:\\Users\\gkris\\AppData\\Local\\Temp\\ipykernel_22668\\14006444.py:2: LangChainDeprecationWarning: The class `ChatOpenAI` was deprecated in LangChain 0.0.10 and will be removed in 1.0. An updated version of the class exists in the :class:`~langchain-openai package and should be used instead. To use it run `pip install -U :class:`~langchain-openai` and import as `from :class:`~langchain_openai import ChatOpenAI``.\n",
      "  llm = ChatOpenAI(model_name = \"gpt-3.5-turbo\", temperature = 0.3)\n"
     ]
    }
   ],
   "source": [
    "os.environ[\"OPENAI_API_KEY\"] = \"Add your api key here\"\n",
    "llm = ChatOpenAI(model_name = \"gpt-3.5-turbo\", temperature = 0.3)"
   ]
  },
  {
   "cell_type": "markdown",
   "metadata": {},
   "source": [
    "**Step-3 : Load the dataset**"
   ]
  },
  {
   "cell_type": "code",
   "execution_count": 3,
   "metadata": {},
   "outputs": [],
   "source": [
    "df = pd.read_excel(\"E:\\\\Projects\\\\Datasets\\\\company_addresses_hindi.xlsx\")"
   ]
  },
  {
   "cell_type": "code",
   "execution_count": 26,
   "metadata": {},
   "outputs": [
    {
     "data": {
      "text/html": [
       "<div>\n",
       "<style scoped>\n",
       "    .dataframe tbody tr th:only-of-type {\n",
       "        vertical-align: middle;\n",
       "    }\n",
       "\n",
       "    .dataframe tbody tr th {\n",
       "        vertical-align: top;\n",
       "    }\n",
       "\n",
       "    .dataframe thead th {\n",
       "        text-align: right;\n",
       "    }\n",
       "</style>\n",
       "<table border=\"1\" class=\"dataframe\">\n",
       "  <thead>\n",
       "    <tr style=\"text-align: right;\">\n",
       "      <th></th>\n",
       "      <th>कंपनी का नाम</th>\n",
       "      <th>सड़क का नाम</th>\n",
       "      <th>स्थान</th>\n",
       "      <th>शहर</th>\n",
       "      <th>पिनकोड</th>\n",
       "      <th>राज्य</th>\n",
       "      <th>देश</th>\n",
       "    </tr>\n",
       "  </thead>\n",
       "  <tbody>\n",
       "    <tr>\n",
       "      <th>0</th>\n",
       "      <td>विप्रो</td>\n",
       "      <td>डोड्डाकनेल्ली, सरजापुर रोड</td>\n",
       "      <td>सरजापुर</td>\n",
       "      <td>बेंगलुरु</td>\n",
       "      <td>560035</td>\n",
       "      <td>कर्नाटक</td>\n",
       "      <td>भारत</td>\n",
       "    </tr>\n",
       "    <tr>\n",
       "      <th>1</th>\n",
       "      <td>विप्रो</td>\n",
       "      <td>प्लॉट नंबर 2, फेज 1, राजीव गांधी इन्फोटेक पार्...</td>\n",
       "      <td>हिंजवाड़ी</td>\n",
       "      <td>पुणे</td>\n",
       "      <td>411057</td>\n",
       "      <td>महाराष्ट्र</td>\n",
       "      <td>भारत</td>\n",
       "    </tr>\n",
       "    <tr>\n",
       "      <th>2</th>\n",
       "      <td>विप्रो</td>\n",
       "      <td>203/1, मनिकोंडा गांव, गाचीबोवली SEZ</td>\n",
       "      <td>मनिकोंडा गांव</td>\n",
       "      <td>हैदराबाद</td>\n",
       "      <td>500032</td>\n",
       "      <td>तेलंगाना</td>\n",
       "      <td>भारत</td>\n",
       "    </tr>\n",
       "    <tr>\n",
       "      <th>3</th>\n",
       "      <td>टीसीएस</td>\n",
       "      <td>आईटी/आईटीईएस एसईजेड, राजारहाट, न्यू टाउन</td>\n",
       "      <td>राजारहाट</td>\n",
       "      <td>कोलकाता</td>\n",
       "      <td>700160</td>\n",
       "      <td>पश्चिम बंगाल</td>\n",
       "      <td>भारत</td>\n",
       "    </tr>\n",
       "    <tr>\n",
       "      <th>4</th>\n",
       "      <td>टीसीएस</td>\n",
       "      <td>थिंक कैंपस, इलेक्ट्रॉनिक सिटी फेज II</td>\n",
       "      <td>इलेक्ट्रॉनिक सिटी फेज II</td>\n",
       "      <td>बेंगलुरु</td>\n",
       "      <td>560100</td>\n",
       "      <td>कर्नाटक</td>\n",
       "      <td>भारत</td>\n",
       "    </tr>\n",
       "  </tbody>\n",
       "</table>\n",
       "</div>"
      ],
      "text/plain": [
       "  कंपनी का नाम                                        सड़क का नाम  \\\n",
       "0       विप्रो                         डोड्डाकनेल्ली, सरजापुर रोड   \n",
       "1       विप्रो  प्लॉट नंबर 2, फेज 1, राजीव गांधी इन्फोटेक पार्...   \n",
       "2       विप्रो                203/1, मनिकोंडा गांव, गाचीबोवली SEZ   \n",
       "3       टीसीएस           आईटी/आईटीईएस एसईजेड, राजारहाट, न्यू टाउन   \n",
       "4       टीसीएस               थिंक कैंपस, इलेक्ट्रॉनिक सिटी फेज II   \n",
       "\n",
       "                      स्थान       शहर  पिनकोड         राज्य   देश  \n",
       "0                   सरजापुर  बेंगलुरु  560035       कर्नाटक  भारत  \n",
       "1                 हिंजवाड़ी      पुणे  411057    महाराष्ट्र  भारत  \n",
       "2             मनिकोंडा गांव  हैदराबाद  500032      तेलंगाना  भारत  \n",
       "3                  राजारहाट   कोलकाता  700160  पश्चिम बंगाल  भारत  \n",
       "4  इलेक्ट्रॉनिक सिटी फेज II  बेंगलुरु  560100       कर्नाटक  भारत  "
      ]
     },
     "execution_count": 26,
     "metadata": {},
     "output_type": "execute_result"
    }
   ],
   "source": [
    "df.head()"
   ]
  },
  {
   "cell_type": "code",
   "execution_count": 5,
   "metadata": {},
   "outputs": [
    {
     "data": {
      "text/plain": [
       "(15, 5)"
      ]
     },
     "execution_count": 5,
     "metadata": {},
     "output_type": "execute_result"
    }
   ],
   "source": [
    "df.shape"
   ]
  },
  {
   "cell_type": "code",
   "execution_count": 6,
   "metadata": {},
   "outputs": [
    {
     "name": "stdout",
     "output_type": "stream",
     "text": [
      "Index(['कंपनी का नाम', 'सड़क का नाम', 'स्थान', 'शहर', 'पिनकोड'], dtype='object')\n"
     ]
    }
   ],
   "source": [
    "print(df.columns)\n"
   ]
  },
  {
   "cell_type": "markdown",
   "metadata": {},
   "source": [
    "**Step-4 : Define function to get missing area**"
   ]
  },
  {
   "cell_type": "code",
   "execution_count": 7,
   "metadata": {},
   "outputs": [],
   "source": [
    "from langchain.schema import SystemMessage, HumanMessage\n",
    "\n",
    "def get_area(street, city):\n",
    "    \"\"\"\"Use OPENAI to predict the missing area.\"\"\"\n",
    "    address = f\"{street},{city}\"\n",
    "    messages = [\n",
    "        SystemMessage(content=\"You are an AI assistant that extracts area information form Hindi addresses.\"),\n",
    "        HumanMessage(content=f\"What is the area in the following address? {address}\\n return only with area name.\")\n",
    "    ]\n",
    "    response = llm(messages)\n",
    "    return response.content.strip() if response.content else \"\""
   ]
  },
  {
   "cell_type": "markdown",
   "metadata": {},
   "source": [
    "**Step-5 Fill missing values in the 'स्थान' column**\n"
   ]
  },
  {
   "cell_type": "code",
   "execution_count": 8,
   "metadata": {},
   "outputs": [
    {
     "name": "stderr",
     "output_type": "stream",
     "text": [
      "C:\\Users\\gkris\\AppData\\Local\\Temp\\ipykernel_22668\\1248539136.py:10: LangChainDeprecationWarning: The method `BaseChatModel.__call__` was deprecated in langchain-core 0.1.7 and will be removed in 1.0. Use :meth:`~invoke` instead.\n",
      "  response = llm(messages)\n"
     ]
    }
   ],
   "source": [
    "df[\"स्थान\"] = df.apply(lambda row: get_area(row[\"सड़क का नाम\"], row[\"शहर\"]) if pd.isna(row[\"स्थान\"]) else row [\"स्थान\"], axis = 1)"
   ]
  },
  {
   "cell_type": "code",
   "execution_count": 9,
   "metadata": {},
   "outputs": [
    {
     "data": {
      "text/html": [
       "<div>\n",
       "<style scoped>\n",
       "    .dataframe tbody tr th:only-of-type {\n",
       "        vertical-align: middle;\n",
       "    }\n",
       "\n",
       "    .dataframe tbody tr th {\n",
       "        vertical-align: top;\n",
       "    }\n",
       "\n",
       "    .dataframe thead th {\n",
       "        text-align: right;\n",
       "    }\n",
       "</style>\n",
       "<table border=\"1\" class=\"dataframe\">\n",
       "  <thead>\n",
       "    <tr style=\"text-align: right;\">\n",
       "      <th></th>\n",
       "      <th>कंपनी का नाम</th>\n",
       "      <th>सड़क का नाम</th>\n",
       "      <th>स्थान</th>\n",
       "      <th>शहर</th>\n",
       "      <th>पिनकोड</th>\n",
       "    </tr>\n",
       "  </thead>\n",
       "  <tbody>\n",
       "    <tr>\n",
       "      <th>0</th>\n",
       "      <td>विप्रो</td>\n",
       "      <td>डोड्डाकनेल्ली, सरजापुर रोड</td>\n",
       "      <td>सरजापुर</td>\n",
       "      <td>बेंगलुरु</td>\n",
       "      <td>560035</td>\n",
       "    </tr>\n",
       "    <tr>\n",
       "      <th>1</th>\n",
       "      <td>विप्रो</td>\n",
       "      <td>प्लॉट नंबर 2, फेज 1, राजीव गांधी इन्फोटेक पार्...</td>\n",
       "      <td>हिंजवाड़ी</td>\n",
       "      <td>पुणे</td>\n",
       "      <td>411057</td>\n",
       "    </tr>\n",
       "    <tr>\n",
       "      <th>2</th>\n",
       "      <td>विप्रो</td>\n",
       "      <td>203/1, मनिकोंडा गांव, गाचीबोवली SEZ</td>\n",
       "      <td>मनिकोंडा गांव</td>\n",
       "      <td>हैदराबाद</td>\n",
       "      <td>500032</td>\n",
       "    </tr>\n",
       "    <tr>\n",
       "      <th>3</th>\n",
       "      <td>टीसीएस</td>\n",
       "      <td>आईटी/आईटीईएस एसईजेड, राजारहाट, न्यू टाउन</td>\n",
       "      <td>राजारहाट</td>\n",
       "      <td>कोलकाता</td>\n",
       "      <td>700160</td>\n",
       "    </tr>\n",
       "    <tr>\n",
       "      <th>4</th>\n",
       "      <td>टीसीएस</td>\n",
       "      <td>थिंक कैंपस, इलेक्ट्रॉनिक सिटी फेज II</td>\n",
       "      <td>इलेक्ट्रॉनिक सिटी फेज II</td>\n",
       "      <td>बेंगलुरु</td>\n",
       "      <td>560100</td>\n",
       "    </tr>\n",
       "  </tbody>\n",
       "</table>\n",
       "</div>"
      ],
      "text/plain": [
       "  कंपनी का नाम                                        सड़क का नाम  \\\n",
       "0       विप्रो                         डोड्डाकनेल्ली, सरजापुर रोड   \n",
       "1       विप्रो  प्लॉट नंबर 2, फेज 1, राजीव गांधी इन्फोटेक पार्...   \n",
       "2       विप्रो                203/1, मनिकोंडा गांव, गाचीबोवली SEZ   \n",
       "3       टीसीएस           आईटी/आईटीईएस एसईजेड, राजारहाट, न्यू टाउन   \n",
       "4       टीसीएस               थिंक कैंपस, इलेक्ट्रॉनिक सिटी फेज II   \n",
       "\n",
       "                      स्थान       शहर  पिनकोड  \n",
       "0                   सरजापुर  बेंगलुरु  560035  \n",
       "1                 हिंजवाड़ी      पुणे  411057  \n",
       "2             मनिकोंडा गांव  हैदराबाद  500032  \n",
       "3                  राजारहाट   कोलकाता  700160  \n",
       "4  इलेक्ट्रॉनिक सिटी फेज II  बेंगलुरु  560100  "
      ]
     },
     "execution_count": 9,
     "metadata": {},
     "output_type": "execute_result"
    }
   ],
   "source": [
    "df.head()"
   ]
  },
  {
   "cell_type": "code",
   "execution_count": 10,
   "metadata": {},
   "outputs": [
    {
     "data": {
      "text/plain": [
       "0                                  सरजापुर\n",
       "1                                हिंजवाड़ी\n",
       "2                            मनिकोंडा गांव\n",
       "3                                 राजारहाट\n",
       "4                 इलेक्ट्रॉनिक सिटी फेज II\n",
       "5                                  माधापुर\n",
       "6     सॉल्ट लेक इलेक्ट्रॉनिक्स कॉम्प्लेक्स\n",
       "7                            मनिकोंडा गांव\n",
       "8                न्यू टाउन-एक्शन एरिया-III\n",
       "9                             शोलिंगनल्लूर\n",
       "10                               हिंजवाड़ी\n",
       "11                                 माधापुर\n",
       "12                                अल्वरपेट\n",
       "13                               हिंजवाड़ी\n",
       "14                                 नागवारा\n",
       "Name: स्थान, dtype: object"
      ]
     },
     "execution_count": 10,
     "metadata": {},
     "output_type": "execute_result"
    }
   ],
   "source": [
    "df[\"स्थान\"].head(15)"
   ]
  },
  {
   "cell_type": "markdown",
   "metadata": {},
   "source": [
    "**Step-6 : Add राज्य column to dataset**"
   ]
  },
  {
   "cell_type": "code",
   "execution_count": 11,
   "metadata": {},
   "outputs": [],
   "source": [
    "if \"राज्य\" not in df.columns:\n",
    "    df[\"राज्य\"] = None"
   ]
  },
  {
   "cell_type": "markdown",
   "metadata": {},
   "source": [
    "**Step-7 : Define function to get missing state**"
   ]
  },
  {
   "cell_type": "code",
   "execution_count": 12,
   "metadata": {},
   "outputs": [],
   "source": [
    "def get_state(pincode, street, city):\n",
    "    \"\"\"Use OpenAI to predict the state based on pincode, street, city\"\"\"\n",
    "    address1 = f\"{pincode},{street},{city}\"\n",
    "    messages = [\n",
    "        SystemMessage(content=\"You are an AI assistant that extracts state information from Hindi addresses.\"),\n",
    "        HumanMessage(content=f\"What is the state in the following address? {address1}\\n return only with state name in Hindi.\")\n",
    "    ]\n",
    "    response = llm(messages)\n",
    "    return response.content.strip() if response.content else \"\""
   ]
  },
  {
   "cell_type": "markdown",
   "metadata": {},
   "source": [
    "**Step-8 : Fill the missing values in राज्य column**"
   ]
  },
  {
   "cell_type": "code",
   "execution_count": 13,
   "metadata": {},
   "outputs": [],
   "source": [
    "df[\"राज्य\"] = df.apply(lambda row: get_state(row[\"पिनकोड\"], row[\"सड़क का नाम\"], row[\"शहर\"]) if pd.isna(row[\"राज्य\"]) else row [\"राज्य\"], axis = 1)"
   ]
  },
  {
   "cell_type": "code",
   "execution_count": 14,
   "metadata": {},
   "outputs": [
    {
     "data": {
      "text/html": [
       "<div>\n",
       "<style scoped>\n",
       "    .dataframe tbody tr th:only-of-type {\n",
       "        vertical-align: middle;\n",
       "    }\n",
       "\n",
       "    .dataframe tbody tr th {\n",
       "        vertical-align: top;\n",
       "    }\n",
       "\n",
       "    .dataframe thead th {\n",
       "        text-align: right;\n",
       "    }\n",
       "</style>\n",
       "<table border=\"1\" class=\"dataframe\">\n",
       "  <thead>\n",
       "    <tr style=\"text-align: right;\">\n",
       "      <th></th>\n",
       "      <th>कंपनी का नाम</th>\n",
       "      <th>सड़क का नाम</th>\n",
       "      <th>स्थान</th>\n",
       "      <th>शहर</th>\n",
       "      <th>पिनकोड</th>\n",
       "      <th>राज्य</th>\n",
       "    </tr>\n",
       "  </thead>\n",
       "  <tbody>\n",
       "    <tr>\n",
       "      <th>0</th>\n",
       "      <td>विप्रो</td>\n",
       "      <td>डोड्डाकनेल्ली, सरजापुर रोड</td>\n",
       "      <td>सरजापुर</td>\n",
       "      <td>बेंगलुरु</td>\n",
       "      <td>560035</td>\n",
       "      <td>कर्नाटक</td>\n",
       "    </tr>\n",
       "    <tr>\n",
       "      <th>1</th>\n",
       "      <td>विप्रो</td>\n",
       "      <td>प्लॉट नंबर 2, फेज 1, राजीव गांधी इन्फोटेक पार्...</td>\n",
       "      <td>हिंजवाड़ी</td>\n",
       "      <td>पुणे</td>\n",
       "      <td>411057</td>\n",
       "      <td>महाराष्ट्र</td>\n",
       "    </tr>\n",
       "    <tr>\n",
       "      <th>2</th>\n",
       "      <td>विप्रो</td>\n",
       "      <td>203/1, मनिकोंडा गांव, गाचीबोवली SEZ</td>\n",
       "      <td>मनिकोंडा गांव</td>\n",
       "      <td>हैदराबाद</td>\n",
       "      <td>500032</td>\n",
       "      <td>तेलंगाना</td>\n",
       "    </tr>\n",
       "    <tr>\n",
       "      <th>3</th>\n",
       "      <td>टीसीएस</td>\n",
       "      <td>आईटी/आईटीईएस एसईजेड, राजारहाट, न्यू टाउन</td>\n",
       "      <td>राजारहाट</td>\n",
       "      <td>कोलकाता</td>\n",
       "      <td>700160</td>\n",
       "      <td>पश्चिम बंगाल</td>\n",
       "    </tr>\n",
       "    <tr>\n",
       "      <th>4</th>\n",
       "      <td>टीसीएस</td>\n",
       "      <td>थिंक कैंपस, इलेक्ट्रॉनिक सिटी फेज II</td>\n",
       "      <td>इलेक्ट्रॉनिक सिटी फेज II</td>\n",
       "      <td>बेंगलुरु</td>\n",
       "      <td>560100</td>\n",
       "      <td>कर्नाटक</td>\n",
       "    </tr>\n",
       "  </tbody>\n",
       "</table>\n",
       "</div>"
      ],
      "text/plain": [
       "  कंपनी का नाम                                        सड़क का नाम  \\\n",
       "0       विप्रो                         डोड्डाकनेल्ली, सरजापुर रोड   \n",
       "1       विप्रो  प्लॉट नंबर 2, फेज 1, राजीव गांधी इन्फोटेक पार्...   \n",
       "2       विप्रो                203/1, मनिकोंडा गांव, गाचीबोवली SEZ   \n",
       "3       टीसीएस           आईटी/आईटीईएस एसईजेड, राजारहाट, न्यू टाउन   \n",
       "4       टीसीएस               थिंक कैंपस, इलेक्ट्रॉनिक सिटी फेज II   \n",
       "\n",
       "                      स्थान       शहर  पिनकोड         राज्य  \n",
       "0                   सरजापुर  बेंगलुरु  560035       कर्नाटक  \n",
       "1                 हिंजवाड़ी      पुणे  411057    महाराष्ट्र  \n",
       "2             मनिकोंडा गांव  हैदराबाद  500032      तेलंगाना  \n",
       "3                  राजारहाट   कोलकाता  700160  पश्चिम बंगाल  \n",
       "4  इलेक्ट्रॉनिक सिटी फेज II  बेंगलुरु  560100       कर्नाटक  "
      ]
     },
     "execution_count": 14,
     "metadata": {},
     "output_type": "execute_result"
    }
   ],
   "source": [
    "df.head()"
   ]
  },
  {
   "cell_type": "code",
   "execution_count": 15,
   "metadata": {},
   "outputs": [
    {
     "data": {
      "text/plain": [
       "0          कर्नाटक\n",
       "1       महाराष्ट्र\n",
       "2         तेलंगाना\n",
       "3     पश्चिम बंगाल\n",
       "4          कर्नाटक\n",
       "5         तेलंगाना\n",
       "6     पश्चिम बंगाल\n",
       "7         तेलंगाना\n",
       "8     पश्चिम बंगाल\n",
       "9         तमिलनाडु\n",
       "10      महाराष्ट्र\n",
       "11        तेलंगाना\n",
       "12        तमिलनाडु\n",
       "13      महाराष्ट्र\n",
       "14         कर्नाटक\n",
       "Name: राज्य, dtype: object"
      ]
     },
     "execution_count": 15,
     "metadata": {},
     "output_type": "execute_result"
    }
   ],
   "source": [
    "df['राज्य'].head(15)"
   ]
  },
  {
   "cell_type": "markdown",
   "metadata": {},
   "source": [
    "**Step-9 : Add देश column to the dataset**"
   ]
  },
  {
   "cell_type": "code",
   "execution_count": 17,
   "metadata": {},
   "outputs": [],
   "source": [
    "if \"देश\" not in df.columns:\n",
    "    df[\"देश\"] = None"
   ]
  },
  {
   "cell_type": "markdown",
   "metadata": {},
   "source": [
    "**Step-10 : Define function to get missing country**"
   ]
  },
  {
   "cell_type": "code",
   "execution_count": 20,
   "metadata": {},
   "outputs": [],
   "source": [
    "def get_country(state, city, pincode):\n",
    "    \"\"\"Use OpenAI to predict the country based on state, city, pincode.\"\"\"\n",
    "    address2 = f\"{state},{city}, {pincode}\"\n",
    "    messages = [\n",
    "        SystemMessage(content=\"You are an AI assistant that extracts country information from Hindi addresses.\"),\n",
    "        HumanMessage(content=f\"What is the country in the following address? {address2}\\n return only with country name in Hindi.\")\n",
    "    ]\n",
    "\n",
    "    response = llm(messages)\n",
    "    return response.content.strip() if response.content else \"\""
   ]
  },
  {
   "cell_type": "code",
   "execution_count": 21,
   "metadata": {},
   "outputs": [],
   "source": [
    "df[\"देश\"] = df.apply (lambda row: get_country(row[\"पिनकोड\"], row[\"राज्य\"], row[\"शहर\"]) if pd.isna(row[\"देश\"]) else row [\"देश\"], axis = 1)"
   ]
  },
  {
   "cell_type": "code",
   "execution_count": 24,
   "metadata": {},
   "outputs": [
    {
     "data": {
      "text/html": [
       "<div>\n",
       "<style scoped>\n",
       "    .dataframe tbody tr th:only-of-type {\n",
       "        vertical-align: middle;\n",
       "    }\n",
       "\n",
       "    .dataframe tbody tr th {\n",
       "        vertical-align: top;\n",
       "    }\n",
       "\n",
       "    .dataframe thead th {\n",
       "        text-align: right;\n",
       "    }\n",
       "</style>\n",
       "<table border=\"1\" class=\"dataframe\">\n",
       "  <thead>\n",
       "    <tr style=\"text-align: right;\">\n",
       "      <th></th>\n",
       "      <th>कंपनी का नाम</th>\n",
       "      <th>सड़क का नाम</th>\n",
       "      <th>स्थान</th>\n",
       "      <th>शहर</th>\n",
       "      <th>पिनकोड</th>\n",
       "      <th>राज्य</th>\n",
       "      <th>देश</th>\n",
       "    </tr>\n",
       "  </thead>\n",
       "  <tbody>\n",
       "    <tr>\n",
       "      <th>0</th>\n",
       "      <td>विप्रो</td>\n",
       "      <td>डोड्डाकनेल्ली, सरजापुर रोड</td>\n",
       "      <td>सरजापुर</td>\n",
       "      <td>बेंगलुरु</td>\n",
       "      <td>560035</td>\n",
       "      <td>कर्नाटक</td>\n",
       "      <td>भारत</td>\n",
       "    </tr>\n",
       "    <tr>\n",
       "      <th>1</th>\n",
       "      <td>विप्रो</td>\n",
       "      <td>प्लॉट नंबर 2, फेज 1, राजीव गांधी इन्फोटेक पार्...</td>\n",
       "      <td>हिंजवाड़ी</td>\n",
       "      <td>पुणे</td>\n",
       "      <td>411057</td>\n",
       "      <td>महाराष्ट्र</td>\n",
       "      <td>भारत</td>\n",
       "    </tr>\n",
       "    <tr>\n",
       "      <th>2</th>\n",
       "      <td>विप्रो</td>\n",
       "      <td>203/1, मनिकोंडा गांव, गाचीबोवली SEZ</td>\n",
       "      <td>मनिकोंडा गांव</td>\n",
       "      <td>हैदराबाद</td>\n",
       "      <td>500032</td>\n",
       "      <td>तेलंगाना</td>\n",
       "      <td>भारत</td>\n",
       "    </tr>\n",
       "    <tr>\n",
       "      <th>3</th>\n",
       "      <td>टीसीएस</td>\n",
       "      <td>आईटी/आईटीईएस एसईजेड, राजारहाट, न्यू टाउन</td>\n",
       "      <td>राजारहाट</td>\n",
       "      <td>कोलकाता</td>\n",
       "      <td>700160</td>\n",
       "      <td>पश्चिम बंगाल</td>\n",
       "      <td>भारत</td>\n",
       "    </tr>\n",
       "    <tr>\n",
       "      <th>4</th>\n",
       "      <td>टीसीएस</td>\n",
       "      <td>थिंक कैंपस, इलेक्ट्रॉनिक सिटी फेज II</td>\n",
       "      <td>इलेक्ट्रॉनिक सिटी फेज II</td>\n",
       "      <td>बेंगलुरु</td>\n",
       "      <td>560100</td>\n",
       "      <td>कर्नाटक</td>\n",
       "      <td>भारत</td>\n",
       "    </tr>\n",
       "  </tbody>\n",
       "</table>\n",
       "</div>"
      ],
      "text/plain": [
       "  कंपनी का नाम                                        सड़क का नाम  \\\n",
       "0       विप्रो                         डोड्डाकनेल्ली, सरजापुर रोड   \n",
       "1       विप्रो  प्लॉट नंबर 2, फेज 1, राजीव गांधी इन्फोटेक पार्...   \n",
       "2       विप्रो                203/1, मनिकोंडा गांव, गाचीबोवली SEZ   \n",
       "3       टीसीएस           आईटी/आईटीईएस एसईजेड, राजारहाट, न्यू टाउन   \n",
       "4       टीसीएस               थिंक कैंपस, इलेक्ट्रॉनिक सिटी फेज II   \n",
       "\n",
       "                      स्थान       शहर  पिनकोड         राज्य   देश  \n",
       "0                   सरजापुर  बेंगलुरु  560035       कर्नाटक  भारत  \n",
       "1                 हिंजवाड़ी      पुणे  411057    महाराष्ट्र  भारत  \n",
       "2             मनिकोंडा गांव  हैदराबाद  500032      तेलंगाना  भारत  \n",
       "3                  राजारहाट   कोलकाता  700160  पश्चिम बंगाल  भारत  \n",
       "4  इलेक्ट्रॉनिक सिटी फेज II  बेंगलुरु  560100       कर्नाटक  भारत  "
      ]
     },
     "execution_count": 24,
     "metadata": {},
     "output_type": "execute_result"
    }
   ],
   "source": [
    "df.head()"
   ]
  },
  {
   "cell_type": "code",
   "execution_count": 23,
   "metadata": {},
   "outputs": [
    {
     "data": {
      "text/plain": [
       "0     भारत\n",
       "1     भारत\n",
       "2     भारत\n",
       "3     भारत\n",
       "4     भारत\n",
       "5     भारत\n",
       "6     भारत\n",
       "7     भारत\n",
       "8     भारत\n",
       "9     भारत\n",
       "10    भारत\n",
       "11    भारत\n",
       "12    भारत\n",
       "13    भारत\n",
       "14    भारत\n",
       "Name: देश, dtype: object"
      ]
     },
     "execution_count": 23,
     "metadata": {},
     "output_type": "execute_result"
    }
   ],
   "source": [
    "df['देश'].head(15)"
   ]
  },
  {
   "cell_type": "markdown",
   "metadata": {},
   "source": [
    "**Step-11 : Save the updated file** "
   ]
  },
  {
   "cell_type": "markdown",
   "metadata": {},
   "source": [
    "* If you want to download the excel file use the below code."
   ]
  },
  {
   "cell_type": "code",
   "execution_count": 16,
   "metadata": {},
   "outputs": [],
   "source": [
    "#df.to_excel(\"E:\\\\Projects\\\\updated_company_addresses.xlsx\", index=False)\n"
   ]
  },
  {
   "cell_type": "markdown",
   "metadata": {},
   "source": [
    "**Conclusion :**\n",
    "* All the modifications are performed on the \"स्थान\" column based on information provided in the excel file and new columns are also added to the dataset and changed the values based on the given excel file."
   ]
  }
 ],
 "metadata": {
  "kernelspec": {
   "display_name": "Python 3",
   "language": "python",
   "name": "python3"
  },
  "language_info": {
   "codemirror_mode": {
    "name": "ipython",
    "version": 3
   },
   "file_extension": ".py",
   "mimetype": "text/x-python",
   "name": "python",
   "nbconvert_exporter": "python",
   "pygments_lexer": "ipython3",
   "version": "3.11.5"
  }
 },
 "nbformat": 4,
 "nbformat_minor": 2
}
